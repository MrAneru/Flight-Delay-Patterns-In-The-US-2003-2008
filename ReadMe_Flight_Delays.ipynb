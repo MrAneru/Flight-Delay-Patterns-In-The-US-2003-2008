{
 "cells": [
  {
   "cell_type": "markdown",
   "id": "b26d260e",
   "metadata": {},
   "source": [
    "# Analysis Of Flight Delay Patterns In The US\n",
    "## By Suleman Aneru\n",
    "\n",
    "\n",
    "## Dataset\n",
    "\n",
    "The original dataset reports flight arrival and departure details for all commercial flights within the USA, including carriers, arrival and departure delays, and reasons for delays, from October 1987 to April 2008. The complete dataset is very large with nearly 120 million records in total, taking up 1.6 gigabytes of space compressed and 12 gigabytes when uncompressed. The entire dataset can be downloaded [here](https://community.amstat.org/jointscsg-section/dataexpo/dataexpo2009).\n",
    "\n",
    "Due to the enormous size of this data and the limitations of the machine used for this analysis, I decided to focus on flight data from 2003 to 2008 as these were the most recent data available. I used one notebook to load the flight data for each year into dataframes and combined all the dataframes to one large dataframe that was used for the analysis in a separate notebook.\n",
    "\n",
    "The dataframe consisting of flight data from 2003 to 2008 was wrangled in the second notebook. In the wrangling phase, I I converted all columns to the right datatypes that were necessary for the analysis and ensured that all categorical datatypes were properly converted, especialy the columns for year, month, days of the week and date. I also removed data corresponding to flight delays greater than 10hours and flights that had departure time 1hour earlier than schedule as these were considered outliers. \n",
    "\n",
    "The wrangled dataset, contains over 37,700,000 flight data covering the period from  January 2003 to  April 2008. The main features in the dataset that was used for analysis are:\n",
    "- Months\n",
    "- Days of the Week\n",
    "- Unique Carrier (the various airlines)\n",
    "- Departure Delays (in minutes)\n",
    "- Arrival Delays (in minutes)\n",
    "- Flight Origin\n",
    "\n",
    "\n",
    "## Summary of Findings\n",
    "\n",
    "- The months with the most average flight delays are December, July and June which could be attribute to summer and Christmas holidays. In contrast, September, April and May are the months observed with the least average flight delays.\n",
    "\n",
    "- Friday is the day of the week in which flights had the most delays. This is closely followed by Thursday, Sunday and Monday which gives and indication of the high weekend travel syndrome. \n",
    "\n",
    "- Saturday experienced the least average flight delays which gives an indication that this may be the best day to travel if one intends to spend the least amount of time in the airport due to flight delays.\n",
    "\n",
    "- The average flight delays was observed to have experienced a linear increase from 2003 to 2008.\n",
    "\n",
    "- Atlantic Southwest, Mesa and Jetblue make up the 3 airlines with the most average delayed flights while Hawaiian, Aloha and Northwest represent the 3 airlines with the least or no flight delays.\n",
    "\n",
    "- There were 9 airports with average departure delays less than zero.\n",
    "\n",
    "\n",
    "\n",
    "## Key Insights for Presentation\n",
    "\n",
    "- The average delays of flights per month across the years from 2003 to 2008 was presented.\n",
    "\n",
    "- The average delays of flights for each day of the week across the years from 2003 to 2008 was also presented.\n",
    "\n",
    "- The average flight delays were presented in both bivariate and multivariate trends.\n",
    "\n",
    "- The flight delay patterns per airlines contained in the dataset was also presented.\n",
    "\n",
    "- The airports with the most and least delays is also added in the presentation.\n",
    "\n",
    "\n",
    "## Resources\n",
    "- [Data Expo 2009 - Airline on-time performance](https://community.amstat.org/jointscsg-section/dataexpo/dataexpo2009)\n",
    "- [Stack Overflow](https://stackoverflow.com/)\n",
    " \n"
   ]
  },
  {
   "cell_type": "code",
   "execution_count": null,
   "id": "f015ecc0",
   "metadata": {},
   "outputs": [],
   "source": []
  }
 ],
 "metadata": {
  "kernelspec": {
   "display_name": "Python 3 (ipykernel)",
   "language": "python",
   "name": "python3"
  },
  "language_info": {
   "codemirror_mode": {
    "name": "ipython",
    "version": 3
   },
   "file_extension": ".py",
   "mimetype": "text/x-python",
   "name": "python",
   "nbconvert_exporter": "python",
   "pygments_lexer": "ipython3",
   "version": "3.9.12"
  }
 },
 "nbformat": 4,
 "nbformat_minor": 5
}
